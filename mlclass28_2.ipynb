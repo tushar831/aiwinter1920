{
  "nbformat": 4,
  "nbformat_minor": 0,
  "metadata": {
    "colab": {
      "name": "mlclass28.2.ipynb",
      "provenance": [],
      "include_colab_link": true
    },
    "kernelspec": {
      "name": "python3",
      "display_name": "Python 3"
    }
  },
  "cells": [
    {
      "cell_type": "markdown",
      "metadata": {
        "id": "view-in-github",
        "colab_type": "text"
      },
      "source": [
        "<a href=\"https://colab.research.google.com/github/tushar831/aiwinter1920/blob/master/mlclass28_2.ipynb\" target=\"_parent\"><img src=\"https://colab.research.google.com/assets/colab-badge.svg\" alt=\"Open In Colab\"/></a>"
      ]
    },
    {
      "cell_type": "code",
      "metadata": {
        "id": "u0Yo0X9Cf9t6",
        "colab_type": "code",
        "colab": {}
      },
      "source": [
        "import numpy as np"
      ],
      "execution_count": 0,
      "outputs": []
    },
    {
      "cell_type": "code",
      "metadata": {
        "id": "sN1U1yk0gIhz",
        "colab_type": "code",
        "colab": {}
      },
      "source": [
        "import matplotlib.pyplot as plt\n"
      ],
      "execution_count": 0,
      "outputs": []
    },
    {
      "cell_type": "code",
      "metadata": {
        "id": "t6Hgc7CtgMYm",
        "colab_type": "code",
        "colab": {}
      },
      "source": [
        "players=[\"virat\",\"dhoni\",\"rohit\",\"rahul\"]\n",
        "runs=[1200,200,800,700]\n",
        "runs1=[1300,900,1000,500]"
      ],
      "execution_count": 0,
      "outputs": []
    },
    {
      "cell_type": "code",
      "metadata": {
        "id": "HLLHxQtbgZEE",
        "colab_type": "code",
        "colab": {
          "base_uri": "https://localhost:8080/",
          "height": 294
        },
        "outputId": "6b010103-7154-4374-e068-2325151f6f20"
      },
      "source": [
        "fig,ax=plt.subplots(2)\n",
        "#here subplots will give us 2 property\n",
        "#fig --will be for entire figure\n",
        "#ax will for individual attributes\n",
        "ax[0].bar(players,runs,color='g',label=\"2019\")\n",
        "#ax[0].set_title(\"performance of 2019\")\n",
        "ax[0].legend()\n",
        "ax[1].bar(players,runs1,color='y',label=\"2020\")\n",
        "plt.suptitle(\"cricket performance graph\") #for the title of the entire graph\n",
        "#ax[1].set_title(\"performance of 2020\")\n",
        "ax[1].legend()\n",
        "plt.show()\n"
      ],
      "execution_count": 14,
      "outputs": [
        {
          "output_type": "display_data",
          "data": {
            "image/png": "[encoded data removed]",
            "text/plain": [
              "<Figure size 432x288 with 2 Axes>"
            ]
          },
          "metadata": {
            "tags": []
          }
        }
      ]
    },
    {
      "cell_type": "code",
      "metadata": {
        "id": "Ff5VXlgkiWpz",
        "colab_type": "code",
        "colab": {}
      },
      "source": [
        ""
      ],
      "execution_count": 0,
      "outputs": []
    }
  ]
}